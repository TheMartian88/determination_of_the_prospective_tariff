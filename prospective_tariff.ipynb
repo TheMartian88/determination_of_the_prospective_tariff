{
 "cells": [
  {
   "cell_type": "markdown",
   "id": "e68629e3",
   "metadata": {},
   "source": [
    "# Определение перспективного тарифа для телеком-компании <a id=\"intro\"></a>"
   ]
  },
  {
   "cell_type": "markdown",
   "id": "bd72ce5f",
   "metadata": {},
   "source": [
    "«Мегалайн» — федеральный оператор сотовой связи. Клиентам предлагают два тарифных плана: «Смарт» и «Ультра». Чтобы скорректировать рекламный бюджет, коммерческий департамент хочет понять, какой тариф приносит больше денег.\n",
    "\n",
    "Требуется сделать предварительный анализ тарифов на небольшой выборке клиентов. Имеются данные 500 пользователей «Мегалайна»: кто они, откуда, каким тарифом пользуются, сколько звонков и сообщений каждый отправил за 2018 год. Нужно проанализировать поведение клиентов и сделать вывод — какой тариф лучше."
   ]
  },
  {
   "cell_type": "markdown",
   "id": "3692339c",
   "metadata": {
    "toc": true
   },
   "source": [
    "<h1>Содержание<span class=\"tocSkip\"></span></h1>\n",
    "<div class=\"toc\"><ul class=\"toc-item\"><li><span><a href=\"#Обзор-данных\" data-toc-modified-id=\"Обзор-данных-1\"><span class=\"toc-item-num\">1&nbsp;&nbsp;</span>Обзор данных</a></span></li><li><span><a href=\"#Предобработка-данных\" data-toc-modified-id=\"Предобработка-данных-2\"><span class=\"toc-item-num\">2&nbsp;&nbsp;</span>Предобработка данных</a></span></li><li><span><a href=\"#Анализ-данных\" data-toc-modified-id=\"Анализ-данных-3\"><span class=\"toc-item-num\">3&nbsp;&nbsp;</span>Анализ данных</a></span><ul class=\"toc-item\"><li><span><a href=\"#Выводы\" data-toc-modified-id=\"Выводы-3.1\"><span class=\"toc-item-num\">3.1&nbsp;&nbsp;</span>Выводы</a></span></li></ul></li><li><span><a href=\"#Проверка-гипотез\" data-toc-modified-id=\"Проверка-гипотез-4\"><span class=\"toc-item-num\">4&nbsp;&nbsp;</span>Проверка гипотез</a></span></li><li><span><a href=\"#Общие-выводы\" data-toc-modified-id=\"Общие-выводы-5\"><span class=\"toc-item-num\">5&nbsp;&nbsp;</span>Общие выводы</a></span></li></ul></div>"
   ]
  },
  {
   "cell_type": "markdown",
   "id": "fee262c7-fcb1-4ff1-82c5-5161a9f7593b",
   "metadata": {
    "tags": []
   },
   "source": [
    "## Обзор данных"
   ]
  },
  {
   "cell_type": "markdown",
   "id": "70b230bb-412e-4e64-b3ce-0a0dc9771a09",
   "metadata": {},
   "source": [
    "Подгрузим необходимые библиотеки."
   ]
  },
  {
   "cell_type": "code",
   "execution_count": 1,
   "id": "9b664d96-c5e9-40b1-9e2a-2c05d6dca5b5",
   "metadata": {
    "tags": []
   },
   "outputs": [],
   "source": [
    "import pandas as pd\n",
    "import numpy as np\n",
    "from matplotlib import pyplot as plt\n",
    "from scipy import stats as st\n",
    "import warnings\n",
    "warnings.filterwarnings(\"ignore\")"
   ]
  },
  {
   "cell_type": "markdown",
   "id": "910d0677-da8e-4653-a7bb-975be1924edc",
   "metadata": {},
   "source": [
    "Прочитаем и изучим имеющиеся данные."
   ]
  },
  {
   "cell_type": "code",
   "execution_count": 2,
   "id": "1bf83155-c35d-473a-ba36-37e8bbe7516e",
   "metadata": {
    "tags": []
   },
   "outputs": [],
   "source": [
    "calls = pd.read_csv(\"calls.csv\")\n",
    "internet = pd.read_csv(\"internet.csv\")\n",
    "messages = pd.read_csv(\"messages.csv\")\n",
    "tariffs = pd.read_csv(\"tariffs.csv\")\n",
    "users = pd.read_csv(\"users.csv\")"
   ]
  },
  {
   "cell_type": "code",
   "execution_count": 3,
   "id": "f9691733-54a4-4d15-902d-815b11223a2e",
   "metadata": {},
   "outputs": [
    {
     "name": "stdout",
     "output_type": "stream",
     "text": [
      "       id message_date  user_id\n",
      "0  1000_0   2018-06-27     1000\n",
      "1  1000_1   2018-10-08     1000\n",
      "2  1000_2   2018-08-04     1000\n",
      "3  1000_3   2018-06-16     1000\n",
      "4  1000_4   2018-12-05     1000\n",
      "\n",
      "----------------------------------------------------------------------------\n",
      "       id   call_date  duration  user_id\n",
      "0  1000_0  2018-07-25      0.00     1000\n",
      "1  1000_1  2018-08-17      0.00     1000\n",
      "2  1000_2  2018-06-11      2.85     1000\n",
      "3  1000_3  2018-09-21     13.80     1000\n",
      "4  1000_4  2018-12-15      5.18     1000\n",
      "\n",
      "----------------------------------------------------------------------------\n",
      "   Unnamed: 0      id  mb_used session_date  user_id\n",
      "0           0  1000_0   112.95   2018-11-25     1000\n",
      "1           1  1000_1  1052.81   2018-09-07     1000\n",
      "2           2  1000_2  1197.26   2018-06-25     1000\n",
      "3           3  1000_3   550.27   2018-08-22     1000\n",
      "4           4  1000_4   302.56   2018-09-24     1000\n",
      "\n",
      "----------------------------------------------------------------------------\n",
      "   user_id  age churn_date         city first_name  last_name    reg_date  \\\n",
      "0     1000   52        NaN    Краснодар     Рафаил  Верещагин  2018-05-25   \n",
      "1     1001   41        NaN       Москва       Иван       Ежов  2018-11-01   \n",
      "2     1002   59        NaN  Стерлитамак    Евгений  Абрамович  2018-06-17   \n",
      "3     1003   23        NaN       Москва      Белла   Белякова  2018-08-17   \n",
      "4     1004   68        NaN  Новокузнецк    Татьяна   Авдеенко  2018-05-14   \n",
      "\n",
      "  tariff  \n",
      "0  ultra  \n",
      "1  smart  \n",
      "2  smart  \n",
      "3  ultra  \n",
      "4  ultra  \n",
      "\n",
      "----------------------------------------------------------------------------\n"
     ]
    }
   ],
   "source": [
    "data_names = [messages, calls, internet, users]\n",
    "for data_name in data_names:\n",
    "    print(data_name.head(), end=\"\\n\\n\")\n",
    "    print(\"-\"*76)"
   ]
  },
  {
   "cell_type": "code",
   "execution_count": 4,
   "id": "ae960128-2bc4-4f34-993d-45b5cd861ade",
   "metadata": {},
   "outputs": [
    {
     "name": "stdout",
     "output_type": "stream",
     "text": [
      "<class 'pandas.core.frame.DataFrame'>\n",
      "RangeIndex: 202607 entries, 0 to 202606\n",
      "Data columns (total 4 columns):\n",
      " #   Column     Non-Null Count   Dtype  \n",
      "---  ------     --------------   -----  \n",
      " 0   id         202607 non-null  object \n",
      " 1   call_date  202607 non-null  object \n",
      " 2   duration   202607 non-null  float64\n",
      " 3   user_id    202607 non-null  int64  \n",
      "dtypes: float64(1), int64(1), object(2)\n",
      "memory usage: 6.2+ MB\n",
      "None\n",
      "\n",
      "--------------------------------------------------\n",
      "<class 'pandas.core.frame.DataFrame'>\n",
      "RangeIndex: 149396 entries, 0 to 149395\n",
      "Data columns (total 5 columns):\n",
      " #   Column        Non-Null Count   Dtype  \n",
      "---  ------        --------------   -----  \n",
      " 0   Unnamed: 0    149396 non-null  int64  \n",
      " 1   id            149396 non-null  object \n",
      " 2   mb_used       149396 non-null  float64\n",
      " 3   session_date  149396 non-null  object \n",
      " 4   user_id       149396 non-null  int64  \n",
      "dtypes: float64(1), int64(2), object(2)\n",
      "memory usage: 5.7+ MB\n",
      "None\n",
      "\n",
      "--------------------------------------------------\n",
      "<class 'pandas.core.frame.DataFrame'>\n",
      "RangeIndex: 123036 entries, 0 to 123035\n",
      "Data columns (total 3 columns):\n",
      " #   Column        Non-Null Count   Dtype \n",
      "---  ------        --------------   ----- \n",
      " 0   id            123036 non-null  object\n",
      " 1   message_date  123036 non-null  object\n",
      " 2   user_id       123036 non-null  int64 \n",
      "dtypes: int64(1), object(2)\n",
      "memory usage: 2.8+ MB\n",
      "None\n",
      "\n",
      "--------------------------------------------------\n",
      "<class 'pandas.core.frame.DataFrame'>\n",
      "RangeIndex: 2 entries, 0 to 1\n",
      "Data columns (total 8 columns):\n",
      " #   Column                 Non-Null Count  Dtype \n",
      "---  ------                 --------------  ----- \n",
      " 0   messages_included      2 non-null      int64 \n",
      " 1   mb_per_month_included  2 non-null      int64 \n",
      " 2   minutes_included       2 non-null      int64 \n",
      " 3   rub_monthly_fee        2 non-null      int64 \n",
      " 4   rub_per_gb             2 non-null      int64 \n",
      " 5   rub_per_message        2 non-null      int64 \n",
      " 6   rub_per_minute         2 non-null      int64 \n",
      " 7   tariff_name            2 non-null      object\n",
      "dtypes: int64(7), object(1)\n",
      "memory usage: 260.0+ bytes\n",
      "None\n",
      "\n",
      "--------------------------------------------------\n",
      "<class 'pandas.core.frame.DataFrame'>\n",
      "RangeIndex: 500 entries, 0 to 499\n",
      "Data columns (total 8 columns):\n",
      " #   Column      Non-Null Count  Dtype \n",
      "---  ------      --------------  ----- \n",
      " 0   user_id     500 non-null    int64 \n",
      " 1   age         500 non-null    int64 \n",
      " 2   churn_date  38 non-null     object\n",
      " 3   city        500 non-null    object\n",
      " 4   first_name  500 non-null    object\n",
      " 5   last_name   500 non-null    object\n",
      " 6   reg_date    500 non-null    object\n",
      " 7   tariff      500 non-null    object\n",
      "dtypes: int64(2), object(6)\n",
      "memory usage: 31.4+ KB\n",
      "None\n",
      "\n",
      "--------------------------------------------------\n"
     ]
    }
   ],
   "source": [
    "data_names = [calls, internet, messages, tariffs, users]\n",
    "for data_name in data_names:\n",
    "    print(data_name.info(), end=\"\\n\\n\")\n",
    "    print(\"-\"*50)"
   ]
  },
  {
   "cell_type": "markdown",
   "id": "cb599f7f-abfc-4e33-8be0-d481f8ea233e",
   "metadata": {},
   "source": [
    "[В начало](#intro)"
   ]
  },
  {
   "cell_type": "markdown",
   "id": "6f51089f-f736-4fc4-8ca4-f886dce85c7f",
   "metadata": {},
   "source": [
    "## Предобработка данных"
   ]
  },
  {
   "cell_type": "markdown",
   "id": "62738684-941f-4499-a02c-12b9c86bd521",
   "metadata": {},
   "source": [
    "Приведем данные в датафреймах к нужным типам там, где это необходимо."
   ]
  },
  {
   "cell_type": "code",
   "execution_count": 5,
   "id": "42b29163-ef98-4e80-ade0-beeb9574e976",
   "metadata": {},
   "outputs": [],
   "source": [
    "# Таблица с информацией о звонказ\n",
    "calls[\"call_date\"] = pd.to_datetime(calls[\"call_date\"])\n",
    "# Таблица с информацией об интернете\n",
    "internet[\"session_date\"] = pd.to_datetime(internet[\"session_date\"])\n",
    "# Таблица с информацией об сообщениях\n",
    "messages[\"message_date\"] = pd.to_datetime(messages[\"message_date\"])"
   ]
  },
  {
   "cell_type": "markdown",
   "id": "77a6e31d-75e1-4f26-a762-313fa669a1b2",
   "metadata": {},
   "source": [
    "Проверим и устраним артефакты и аномалии в данных."
   ]
  },
  {
   "cell_type": "markdown",
   "id": "c7620582-d264-45b4-8ff6-63b86f7af1ef",
   "metadata": {},
   "source": [
    "Удалим столбец, который дублирует индексацию в датафрейме с данными о потреблении интернета."
   ]
  },
  {
   "cell_type": "code",
   "execution_count": 6,
   "id": "5500d054-a971-4dce-89ad-0d5b559c1321",
   "metadata": {},
   "outputs": [
    {
     "data": {
      "text/html": [
       "<div>\n",
       "<style scoped>\n",
       "    .dataframe tbody tr th:only-of-type {\n",
       "        vertical-align: middle;\n",
       "    }\n",
       "\n",
       "    .dataframe tbody tr th {\n",
       "        vertical-align: top;\n",
       "    }\n",
       "\n",
       "    .dataframe thead th {\n",
       "        text-align: right;\n",
       "    }\n",
       "</style>\n",
       "<table border=\"1\" class=\"dataframe\">\n",
       "  <thead>\n",
       "    <tr style=\"text-align: right;\">\n",
       "      <th></th>\n",
       "      <th>id</th>\n",
       "      <th>mb_used</th>\n",
       "      <th>session_date</th>\n",
       "      <th>user_id</th>\n",
       "    </tr>\n",
       "  </thead>\n",
       "  <tbody>\n",
       "    <tr>\n",
       "      <th>0</th>\n",
       "      <td>1000_0</td>\n",
       "      <td>112.95</td>\n",
       "      <td>2018-11-25</td>\n",
       "      <td>1000</td>\n",
       "    </tr>\n",
       "    <tr>\n",
       "      <th>1</th>\n",
       "      <td>1000_1</td>\n",
       "      <td>1052.81</td>\n",
       "      <td>2018-09-07</td>\n",
       "      <td>1000</td>\n",
       "    </tr>\n",
       "    <tr>\n",
       "      <th>2</th>\n",
       "      <td>1000_2</td>\n",
       "      <td>1197.26</td>\n",
       "      <td>2018-06-25</td>\n",
       "      <td>1000</td>\n",
       "    </tr>\n",
       "    <tr>\n",
       "      <th>3</th>\n",
       "      <td>1000_3</td>\n",
       "      <td>550.27</td>\n",
       "      <td>2018-08-22</td>\n",
       "      <td>1000</td>\n",
       "    </tr>\n",
       "    <tr>\n",
       "      <th>4</th>\n",
       "      <td>1000_4</td>\n",
       "      <td>302.56</td>\n",
       "      <td>2018-09-24</td>\n",
       "      <td>1000</td>\n",
       "    </tr>\n",
       "  </tbody>\n",
       "</table>\n",
       "</div>"
      ],
      "text/plain": [
       "       id  mb_used session_date  user_id\n",
       "0  1000_0   112.95   2018-11-25     1000\n",
       "1  1000_1  1052.81   2018-09-07     1000\n",
       "2  1000_2  1197.26   2018-06-25     1000\n",
       "3  1000_3   550.27   2018-08-22     1000\n",
       "4  1000_4   302.56   2018-09-24     1000"
      ]
     },
     "execution_count": 6,
     "metadata": {},
     "output_type": "execute_result"
    }
   ],
   "source": [
    "internet = internet.drop(columns=\"Unnamed: 0\")\n",
    "internet.head()"
   ]
  },
  {
   "cell_type": "markdown",
   "id": "c1667f60-4505-44c9-a251-e1760be77e55",
   "metadata": {},
   "source": [
    "Проверим датафреймы на дубликаты."
   ]
  },
  {
   "cell_type": "code",
   "execution_count": 7,
   "id": "2ff0a4a9-1be8-4c7c-8753-470d786ee40d",
   "metadata": {},
   "outputs": [
    {
     "name": "stdout",
     "output_type": "stream",
     "text": [
      "id           0\n",
      "call_date    0\n",
      "duration     0\n",
      "user_id      0\n",
      "dtype: int64\n",
      "\n",
      "-----------------\n",
      "id              0\n",
      "mb_used         0\n",
      "session_date    0\n",
      "user_id         0\n",
      "dtype: int64\n",
      "\n",
      "-----------------\n",
      "id              0\n",
      "message_date    0\n",
      "user_id         0\n",
      "dtype: int64\n",
      "\n",
      "-----------------\n",
      "user_id       0\n",
      "age           0\n",
      "churn_date    0\n",
      "city          0\n",
      "first_name    0\n",
      "last_name     0\n",
      "reg_date      0\n",
      "tariff        0\n",
      "dtype: int64\n",
      "\n",
      "-----------------\n",
      "id              0\n",
      "message_date    0\n",
      "user_id         0\n",
      "dtype: int64\n",
      "\n",
      "-----------------\n"
     ]
    }
   ],
   "source": [
    "data_names = [calls, internet,messages, users, messages]\n",
    "for data_name in data_names:\n",
    "    print(data_name[data_name.duplicated()].count(), end=\"\\n\\n\")\n",
    "    print(\"-\"*17)"
   ]
  },
  {
   "cell_type": "markdown",
   "id": "28e44b16-e0c2-4ed8-ab1c-e51f743d9164",
   "metadata": {},
   "source": [
    "Проверим данные на неотрицательность значений."
   ]
  },
  {
   "cell_type": "code",
   "execution_count": 8,
   "id": "904da662-f400-46b4-ba58-bf5a9e267063",
   "metadata": {},
   "outputs": [
    {
     "data": {
      "text/plain": [
       "0"
      ]
     },
     "execution_count": 8,
     "metadata": {},
     "output_type": "execute_result"
    }
   ],
   "source": [
    "calls[calls[\"duration\"] < 0][\"duration\"].count()"
   ]
  },
  {
   "cell_type": "code",
   "execution_count": 9,
   "id": "5c765ba8-3013-4e5a-988e-172995d1281f",
   "metadata": {},
   "outputs": [
    {
     "data": {
      "text/plain": [
       "0"
      ]
     },
     "execution_count": 9,
     "metadata": {},
     "output_type": "execute_result"
    }
   ],
   "source": [
    "internet[internet[\"mb_used\"] < 0][\"mb_used\"].count()"
   ]
  },
  {
   "cell_type": "markdown",
   "id": "c12c97bc-bb21-4090-8b3c-c32424dcf50d",
   "metadata": {},
   "source": [
    "Поменяем название столбца в таблице с информацией о тарифах. Пригодится нам в будущем."
   ]
  },
  {
   "cell_type": "code",
   "execution_count": 10,
   "id": "64a020df-3b44-422b-84ed-b6b78e373bbc",
   "metadata": {},
   "outputs": [
    {
     "data": {
      "text/html": [
       "<div>\n",
       "<style scoped>\n",
       "    .dataframe tbody tr th:only-of-type {\n",
       "        vertical-align: middle;\n",
       "    }\n",
       "\n",
       "    .dataframe tbody tr th {\n",
       "        vertical-align: top;\n",
       "    }\n",
       "\n",
       "    .dataframe thead th {\n",
       "        text-align: right;\n",
       "    }\n",
       "</style>\n",
       "<table border=\"1\" class=\"dataframe\">\n",
       "  <thead>\n",
       "    <tr style=\"text-align: right;\">\n",
       "      <th></th>\n",
       "      <th>messages_included</th>\n",
       "      <th>mb_per_month_included</th>\n",
       "      <th>minutes_included</th>\n",
       "      <th>rub_monthly_fee</th>\n",
       "      <th>rub_per_gb</th>\n",
       "      <th>rub_per_message</th>\n",
       "      <th>rub_per_minute</th>\n",
       "      <th>tariff</th>\n",
       "    </tr>\n",
       "  </thead>\n",
       "  <tbody>\n",
       "    <tr>\n",
       "      <th>0</th>\n",
       "      <td>50</td>\n",
       "      <td>15360</td>\n",
       "      <td>500</td>\n",
       "      <td>550</td>\n",
       "      <td>200</td>\n",
       "      <td>3</td>\n",
       "      <td>3</td>\n",
       "      <td>smart</td>\n",
       "    </tr>\n",
       "    <tr>\n",
       "      <th>1</th>\n",
       "      <td>1000</td>\n",
       "      <td>30720</td>\n",
       "      <td>3000</td>\n",
       "      <td>1950</td>\n",
       "      <td>150</td>\n",
       "      <td>1</td>\n",
       "      <td>1</td>\n",
       "      <td>ultra</td>\n",
       "    </tr>\n",
       "  </tbody>\n",
       "</table>\n",
       "</div>"
      ],
      "text/plain": [
       "   messages_included  mb_per_month_included  minutes_included  \\\n",
       "0                 50                  15360               500   \n",
       "1               1000                  30720              3000   \n",
       "\n",
       "   rub_monthly_fee  rub_per_gb  rub_per_message  rub_per_minute tariff  \n",
       "0              550         200                3               3  smart  \n",
       "1             1950         150                1               1  ultra  "
      ]
     },
     "execution_count": 10,
     "metadata": {},
     "output_type": "execute_result"
    }
   ],
   "source": [
    "tariffs = tariffs.rename(columns={\"tariff_name\":\"tariff\"})\n",
    "tariffs"
   ]
  },
  {
   "cell_type": "markdown",
   "id": "7520c52b-9089-42e9-863c-efc98038bc73",
   "metadata": {},
   "source": [
    "Избавимся от необязательных столбцов в таблице с информацией о пользователях."
   ]
  },
  {
   "cell_type": "code",
   "execution_count": 11,
   "id": "3a61ce8b-899d-4f32-b4b3-09d6c2b6ba9c",
   "metadata": {},
   "outputs": [
    {
     "data": {
      "text/html": [
       "<div>\n",
       "<style scoped>\n",
       "    .dataframe tbody tr th:only-of-type {\n",
       "        vertical-align: middle;\n",
       "    }\n",
       "\n",
       "    .dataframe tbody tr th {\n",
       "        vertical-align: top;\n",
       "    }\n",
       "\n",
       "    .dataframe thead th {\n",
       "        text-align: right;\n",
       "    }\n",
       "</style>\n",
       "<table border=\"1\" class=\"dataframe\">\n",
       "  <thead>\n",
       "    <tr style=\"text-align: right;\">\n",
       "      <th></th>\n",
       "      <th>user_id</th>\n",
       "      <th>age</th>\n",
       "      <th>city</th>\n",
       "      <th>tariff</th>\n",
       "    </tr>\n",
       "  </thead>\n",
       "  <tbody>\n",
       "    <tr>\n",
       "      <th>0</th>\n",
       "      <td>1000</td>\n",
       "      <td>52</td>\n",
       "      <td>Краснодар</td>\n",
       "      <td>ultra</td>\n",
       "    </tr>\n",
       "    <tr>\n",
       "      <th>1</th>\n",
       "      <td>1001</td>\n",
       "      <td>41</td>\n",
       "      <td>Москва</td>\n",
       "      <td>smart</td>\n",
       "    </tr>\n",
       "    <tr>\n",
       "      <th>2</th>\n",
       "      <td>1002</td>\n",
       "      <td>59</td>\n",
       "      <td>Стерлитамак</td>\n",
       "      <td>smart</td>\n",
       "    </tr>\n",
       "    <tr>\n",
       "      <th>3</th>\n",
       "      <td>1003</td>\n",
       "      <td>23</td>\n",
       "      <td>Москва</td>\n",
       "      <td>ultra</td>\n",
       "    </tr>\n",
       "    <tr>\n",
       "      <th>4</th>\n",
       "      <td>1004</td>\n",
       "      <td>68</td>\n",
       "      <td>Новокузнецк</td>\n",
       "      <td>ultra</td>\n",
       "    </tr>\n",
       "  </tbody>\n",
       "</table>\n",
       "</div>"
      ],
      "text/plain": [
       "   user_id  age         city tariff\n",
       "0     1000   52    Краснодар  ultra\n",
       "1     1001   41       Москва  smart\n",
       "2     1002   59  Стерлитамак  smart\n",
       "3     1003   23       Москва  ultra\n",
       "4     1004   68  Новокузнецк  ultra"
      ]
     },
     "execution_count": 11,
     "metadata": {},
     "output_type": "execute_result"
    }
   ],
   "source": [
    "users = users.drop(columns=[\"churn_date\", \"first_name\", \"last_name\", \"reg_date\"])\n",
    "users.head()"
   ]
  },
  {
   "cell_type": "markdown",
   "id": "7836003b-8849-4635-88a0-b5b4c35404c3",
   "metadata": {},
   "source": [
    "Проверим столбец с информацией о городах на неявные дубликаты."
   ]
  },
  {
   "cell_type": "code",
   "execution_count": 12,
   "id": "ac57fcf0-7552-4a8f-aa35-04d6279d0f24",
   "metadata": {},
   "outputs": [
    {
     "data": {
      "text/plain": [
       "array(['Краснодар', 'Москва', 'Стерлитамак', 'Новокузнецк',\n",
       "       'Набережные Челны', 'Ульяновск', 'Челябинск', 'Пермь', 'Тюмень',\n",
       "       'Самара', 'Санкт-Петербург', 'Иваново', 'Чебоксары', 'Омск', 'Уфа',\n",
       "       'Томск', 'Чита', 'Мурманск', 'Петрозаводск', 'Тверь',\n",
       "       'Екатеринбург', 'Махачкала', 'Вологда', 'Череповец', 'Ярославль',\n",
       "       'Сочи', 'Хабаровск', 'Ставрополь', 'Рязань', 'Улан-Удэ', 'Тула',\n",
       "       'Саратов', 'Ростов-на-Дону', 'Казань', 'Иркутск', 'Курск',\n",
       "       'Калуга', 'Якутск', 'Астрахань', 'Химки', 'Владикавказ',\n",
       "       'Волгоград', 'Саранск', 'Ижевск', 'Новосибирск', 'Брянск',\n",
       "       'Тольятти', 'Нижний Тагил', 'Орёл', 'Белгород', 'Воронеж',\n",
       "       'Волжский', 'Курган', 'Барнаул', 'Красноярск', 'Архангельск',\n",
       "       'Липецк', 'Кемерово', 'Киров', 'Сургут', 'Пенза', 'Магнитогорск',\n",
       "       'Нижний Новгород', 'Кострома', 'Владивосток', 'Тамбов', 'Балашиха',\n",
       "       'Севастополь', 'Калининград', 'Оренбург', 'Смоленск',\n",
       "       'Нижневартовск', 'Владимир', 'Новороссийск', 'Грозный', 'Подольск'],\n",
       "      dtype=object)"
      ]
     },
     "execution_count": 12,
     "metadata": {},
     "output_type": "execute_result"
    }
   ],
   "source": [
    "users[\"city\"].unique()"
   ]
  },
  {
   "cell_type": "markdown",
   "id": "db6dfa02-5f51-45d6-98ea-2fb658583ff2",
   "metadata": {},
   "source": [
    "[В начало](#intro)"
   ]
  },
  {
   "cell_type": "markdown",
   "id": "95a0d486-083b-4c17-8852-146d6cf92f72",
   "metadata": {
    "tags": []
   },
   "source": [
    "## Анализ данных"
   ]
  },
  {
   "cell_type": "markdown",
   "id": "aa908262-8816-495b-af81-3bcaed1518a6",
   "metadata": {},
   "source": [
    "Прежде, чем перейти к анализу данных, создадим дополнительные вспомогательные столбцы."
   ]
  },
  {
   "cell_type": "code",
   "execution_count": 13,
   "id": "ecc148c6-d12a-48fd-8846-788c616e9f01",
   "metadata": {
    "tags": []
   },
   "outputs": [],
   "source": [
    "# Дополнительные столбцы - месяцы\n",
    "calls[\"month\"] = calls[\"call_date\"].dt.month\n",
    "messages[\"month\"] = messages[\"message_date\"].dt.month\n",
    "internet[\"month\"] = internet[\"session_date\"].dt.month"
   ]
  },
  {
   "cell_type": "markdown",
   "id": "8f5ffd25-01eb-4681-acc2-34486197ade0",
   "metadata": {},
   "source": [
    "Сгуппируем данные по месяцам по каждому пользователю и рассчитаем количество использованных минут, сообщений, интернета по каждому тарифу."
   ]
  },
  {
   "cell_type": "code",
   "execution_count": 14,
   "id": "b8eb4f48-153b-4a3d-bd5d-31b897861d21",
   "metadata": {},
   "outputs": [],
   "source": [
    "# Группируем данные\n",
    "messages_per_month = messages.groupby([\"user_id\",\"month\"])[\"id\"].agg({\"count\"}).reset_index()\n",
    "internet_per_month = internet.groupby([\"user_id\",\"month\"])[\"mb_used\"].agg({\"sum\"}).reset_index()\n",
    "call_per_month = calls.groupby([\"user_id\",\"month\"])[\"duration\"].agg({\"sum\", \"count\"}).reset_index()\n",
    "\n",
    "internet_per_month = internet_per_month.rename(columns={\"sum\":\"internet_usage\"})\n",
    "messages_per_month = messages_per_month.rename(columns={\"count\":\"message_usage\"})\n",
    "call_per_month = call_per_month.rename(columns={\"sum\":\"minutes_usage\", \"count\":\"calls_count\"})"
   ]
  },
  {
   "cell_type": "markdown",
   "id": "678163a4-da70-42f8-a5ee-cff0aed51618",
   "metadata": {},
   "source": [
    "Объеденим все таблицы в одну единую таблицу."
   ]
  },
  {
   "cell_type": "code",
   "execution_count": 15,
   "id": "f496c476-5414-4236-a35c-41504c07c37d",
   "metadata": {},
   "outputs": [
    {
     "data": {
      "text/html": [
       "<div>\n",
       "<style scoped>\n",
       "    .dataframe tbody tr th:only-of-type {\n",
       "        vertical-align: middle;\n",
       "    }\n",
       "\n",
       "    .dataframe tbody tr th {\n",
       "        vertical-align: top;\n",
       "    }\n",
       "\n",
       "    .dataframe thead th {\n",
       "        text-align: right;\n",
       "    }\n",
       "</style>\n",
       "<table border=\"1\" class=\"dataframe\">\n",
       "  <thead>\n",
       "    <tr style=\"text-align: right;\">\n",
       "      <th></th>\n",
       "      <th>user_id</th>\n",
       "      <th>age</th>\n",
       "      <th>city</th>\n",
       "      <th>tariff</th>\n",
       "      <th>month</th>\n",
       "      <th>internet_usage</th>\n",
       "      <th>minutes_usage</th>\n",
       "      <th>calls_count</th>\n",
       "      <th>message_usage</th>\n",
       "      <th>messages_included</th>\n",
       "      <th>mb_per_month_included</th>\n",
       "      <th>minutes_included</th>\n",
       "      <th>rub_monthly_fee</th>\n",
       "      <th>rub_per_gb</th>\n",
       "      <th>rub_per_message</th>\n",
       "      <th>rub_per_minute</th>\n",
       "    </tr>\n",
       "  </thead>\n",
       "  <tbody>\n",
       "    <tr>\n",
       "      <th>0</th>\n",
       "      <td>1000</td>\n",
       "      <td>52</td>\n",
       "      <td>Краснодар</td>\n",
       "      <td>ultra</td>\n",
       "      <td>5</td>\n",
       "      <td>2253.49</td>\n",
       "      <td>150.06</td>\n",
       "      <td>22.0</td>\n",
       "      <td>22.0</td>\n",
       "      <td>1000</td>\n",
       "      <td>30720</td>\n",
       "      <td>3000</td>\n",
       "      <td>1950</td>\n",
       "      <td>150</td>\n",
       "      <td>1</td>\n",
       "      <td>1</td>\n",
       "    </tr>\n",
       "    <tr>\n",
       "      <th>1</th>\n",
       "      <td>1000</td>\n",
       "      <td>52</td>\n",
       "      <td>Краснодар</td>\n",
       "      <td>ultra</td>\n",
       "      <td>6</td>\n",
       "      <td>23233.77</td>\n",
       "      <td>158.90</td>\n",
       "      <td>43.0</td>\n",
       "      <td>60.0</td>\n",
       "      <td>1000</td>\n",
       "      <td>30720</td>\n",
       "      <td>3000</td>\n",
       "      <td>1950</td>\n",
       "      <td>150</td>\n",
       "      <td>1</td>\n",
       "      <td>1</td>\n",
       "    </tr>\n",
       "    <tr>\n",
       "      <th>2</th>\n",
       "      <td>1000</td>\n",
       "      <td>52</td>\n",
       "      <td>Краснодар</td>\n",
       "      <td>ultra</td>\n",
       "      <td>7</td>\n",
       "      <td>14003.64</td>\n",
       "      <td>318.80</td>\n",
       "      <td>47.0</td>\n",
       "      <td>75.0</td>\n",
       "      <td>1000</td>\n",
       "      <td>30720</td>\n",
       "      <td>3000</td>\n",
       "      <td>1950</td>\n",
       "      <td>150</td>\n",
       "      <td>1</td>\n",
       "      <td>1</td>\n",
       "    </tr>\n",
       "    <tr>\n",
       "      <th>3</th>\n",
       "      <td>1000</td>\n",
       "      <td>52</td>\n",
       "      <td>Краснодар</td>\n",
       "      <td>ultra</td>\n",
       "      <td>8</td>\n",
       "      <td>14055.93</td>\n",
       "      <td>389.87</td>\n",
       "      <td>52.0</td>\n",
       "      <td>81.0</td>\n",
       "      <td>1000</td>\n",
       "      <td>30720</td>\n",
       "      <td>3000</td>\n",
       "      <td>1950</td>\n",
       "      <td>150</td>\n",
       "      <td>1</td>\n",
       "      <td>1</td>\n",
       "    </tr>\n",
       "    <tr>\n",
       "      <th>4</th>\n",
       "      <td>1000</td>\n",
       "      <td>52</td>\n",
       "      <td>Краснодар</td>\n",
       "      <td>ultra</td>\n",
       "      <td>9</td>\n",
       "      <td>14568.91</td>\n",
       "      <td>440.14</td>\n",
       "      <td>58.0</td>\n",
       "      <td>57.0</td>\n",
       "      <td>1000</td>\n",
       "      <td>30720</td>\n",
       "      <td>3000</td>\n",
       "      <td>1950</td>\n",
       "      <td>150</td>\n",
       "      <td>1</td>\n",
       "      <td>1</td>\n",
       "    </tr>\n",
       "  </tbody>\n",
       "</table>\n",
       "</div>"
      ],
      "text/plain": [
       "   user_id  age       city tariff  month  internet_usage  minutes_usage  \\\n",
       "0     1000   52  Краснодар  ultra      5         2253.49         150.06   \n",
       "1     1000   52  Краснодар  ultra      6        23233.77         158.90   \n",
       "2     1000   52  Краснодар  ultra      7        14003.64         318.80   \n",
       "3     1000   52  Краснодар  ultra      8        14055.93         389.87   \n",
       "4     1000   52  Краснодар  ultra      9        14568.91         440.14   \n",
       "\n",
       "   calls_count  message_usage  messages_included  mb_per_month_included  \\\n",
       "0         22.0           22.0               1000                  30720   \n",
       "1         43.0           60.0               1000                  30720   \n",
       "2         47.0           75.0               1000                  30720   \n",
       "3         52.0           81.0               1000                  30720   \n",
       "4         58.0           57.0               1000                  30720   \n",
       "\n",
       "   minutes_included  rub_monthly_fee  rub_per_gb  rub_per_message  \\\n",
       "0              3000             1950         150                1   \n",
       "1              3000             1950         150                1   \n",
       "2              3000             1950         150                1   \n",
       "3              3000             1950         150                1   \n",
       "4              3000             1950         150                1   \n",
       "\n",
       "   rub_per_minute  \n",
       "0               1  \n",
       "1               1  \n",
       "2               1  \n",
       "3               1  \n",
       "4               1  "
      ]
     },
     "execution_count": 15,
     "metadata": {},
     "output_type": "execute_result"
    }
   ],
   "source": [
    "data = internet_per_month.merge(call_per_month, on=[\"user_id\", \"month\"],  how=\"outer\")\n",
    "data = data.merge(messages_per_month, on=[\"user_id\", \"month\"],  how=\"outer\")\n",
    "data = users.merge(data, on=\"user_id\", how=\"right\")\n",
    "data = data.merge(tariffs, on=\"tariff\", how=\"left\")\n",
    "data.head()"
   ]
  },
  {
   "cell_type": "markdown",
   "id": "a92d7332-ebb8-4030-a105-b0abf610adc3",
   "metadata": {},
   "source": [
    "Создадим функцию для расчета общей выручки с каждого пользователя с учетом трат на дополнительные минуты, сообщения, интернет по каждому тарифу."
   ]
  },
  {
   "cell_type": "code",
   "execution_count": 16,
   "id": "0b7d5d15-6fb1-4465-8990-3519c2966f0c",
   "metadata": {},
   "outputs": [],
   "source": [
    "def total_revenue(row):\n",
    "    \n",
    "    revenue_per_extra_messages = 0 \n",
    "    revenue_per_extra_internet = 0\n",
    "    revenue_per_extra_minutes = 0\n",
    "    \n",
    "    message_usage = row[\"message_usage\"]\n",
    "    internet_usage = row[\"internet_usage\"]\n",
    "    minutes_usage = row[\"minutes_usage\"]\n",
    "    \n",
    "    messages_included = row[\"messages_included\"]\n",
    "    mb_per_month_included = row[\"mb_per_month_included\"]\n",
    "    minutes_included = row[\"minutes_included\"]\n",
    "    \n",
    "    rub_per_message = row[\"rub_per_message\"]\n",
    "    rub_per_gb = row[\"rub_per_gb\"]\n",
    "    rub_per_minute = row[\"rub_per_minute\"]\n",
    "    \n",
    "    rub_monthly_fee = row[\"rub_monthly_fee\"]\n",
    "    tariff = row[\"tariff\"]\n",
    "    \n",
    "    if message_usage > messages_included:\n",
    "        revenue_per_extra_messages += (message_usage - messages_included) * rub_per_message\n",
    "    if message_usage < messages_included:    \n",
    "        revenue_per_extra_messages = 0\n",
    "    if internet_usage > mb_per_month_included:\n",
    "        revenue_per_extra_internet += np.ceil((internet_usage - mb_per_month_included)/1024) * rub_per_gb\n",
    "    if internet_usage < mb_per_month_included:\n",
    "        revenue_per_extra_internet = 0\n",
    "    if minutes_usage > minutes_included:\n",
    "        revenue_per_extra_minutes += np.ceil((minutes_usage - minutes_included)) * rub_per_minute\n",
    "    if minutes_usage < minutes_included:\n",
    "        revenue_per_extra_minutes = 0\n",
    "    \n",
    "    return rub_monthly_fee + revenue_per_extra_messages + revenue_per_extra_internet + revenue_per_extra_minutes"
   ]
  },
  {
   "cell_type": "markdown",
   "id": "2813ce5c-8ba6-46c1-bb71-35cbb642486f",
   "metadata": {},
   "source": [
    "Применим нашу функцию."
   ]
  },
  {
   "cell_type": "code",
   "execution_count": 17,
   "id": "7ce71e63-6c43-466a-bd45-8896848a3f93",
   "metadata": {},
   "outputs": [],
   "source": [
    "data[\"total_revenue\"] = data.apply(total_revenue, axis=1)"
   ]
  },
  {
   "cell_type": "markdown",
   "id": "9a267104-1502-4066-bb86-00c7be8e2aa1",
   "metadata": {},
   "source": [
    "Избавимся от уже не нужных столбцов."
   ]
  },
  {
   "cell_type": "code",
   "execution_count": 18,
   "id": "81fe99e2-54d4-4ea1-a97c-935063306f7a",
   "metadata": {},
   "outputs": [
    {
     "data": {
      "text/html": [
       "<div>\n",
       "<style scoped>\n",
       "    .dataframe tbody tr th:only-of-type {\n",
       "        vertical-align: middle;\n",
       "    }\n",
       "\n",
       "    .dataframe tbody tr th {\n",
       "        vertical-align: top;\n",
       "    }\n",
       "\n",
       "    .dataframe thead th {\n",
       "        text-align: right;\n",
       "    }\n",
       "</style>\n",
       "<table border=\"1\" class=\"dataframe\">\n",
       "  <thead>\n",
       "    <tr style=\"text-align: right;\">\n",
       "      <th></th>\n",
       "      <th>user_id</th>\n",
       "      <th>age</th>\n",
       "      <th>city</th>\n",
       "      <th>tariff</th>\n",
       "      <th>month</th>\n",
       "      <th>internet_usage</th>\n",
       "      <th>minutes_usage</th>\n",
       "      <th>calls_count</th>\n",
       "      <th>message_usage</th>\n",
       "      <th>total_revenue</th>\n",
       "    </tr>\n",
       "  </thead>\n",
       "  <tbody>\n",
       "    <tr>\n",
       "      <th>0</th>\n",
       "      <td>1000</td>\n",
       "      <td>52</td>\n",
       "      <td>Краснодар</td>\n",
       "      <td>ultra</td>\n",
       "      <td>5</td>\n",
       "      <td>2253.49</td>\n",
       "      <td>150.06</td>\n",
       "      <td>22.0</td>\n",
       "      <td>22.0</td>\n",
       "      <td>1950.0</td>\n",
       "    </tr>\n",
       "    <tr>\n",
       "      <th>1</th>\n",
       "      <td>1000</td>\n",
       "      <td>52</td>\n",
       "      <td>Краснодар</td>\n",
       "      <td>ultra</td>\n",
       "      <td>6</td>\n",
       "      <td>23233.77</td>\n",
       "      <td>158.90</td>\n",
       "      <td>43.0</td>\n",
       "      <td>60.0</td>\n",
       "      <td>1950.0</td>\n",
       "    </tr>\n",
       "    <tr>\n",
       "      <th>2</th>\n",
       "      <td>1000</td>\n",
       "      <td>52</td>\n",
       "      <td>Краснодар</td>\n",
       "      <td>ultra</td>\n",
       "      <td>7</td>\n",
       "      <td>14003.64</td>\n",
       "      <td>318.80</td>\n",
       "      <td>47.0</td>\n",
       "      <td>75.0</td>\n",
       "      <td>1950.0</td>\n",
       "    </tr>\n",
       "    <tr>\n",
       "      <th>3</th>\n",
       "      <td>1000</td>\n",
       "      <td>52</td>\n",
       "      <td>Краснодар</td>\n",
       "      <td>ultra</td>\n",
       "      <td>8</td>\n",
       "      <td>14055.93</td>\n",
       "      <td>389.87</td>\n",
       "      <td>52.0</td>\n",
       "      <td>81.0</td>\n",
       "      <td>1950.0</td>\n",
       "    </tr>\n",
       "    <tr>\n",
       "      <th>4</th>\n",
       "      <td>1000</td>\n",
       "      <td>52</td>\n",
       "      <td>Краснодар</td>\n",
       "      <td>ultra</td>\n",
       "      <td>9</td>\n",
       "      <td>14568.91</td>\n",
       "      <td>440.14</td>\n",
       "      <td>58.0</td>\n",
       "      <td>57.0</td>\n",
       "      <td>1950.0</td>\n",
       "    </tr>\n",
       "  </tbody>\n",
       "</table>\n",
       "</div>"
      ],
      "text/plain": [
       "   user_id  age       city tariff  month  internet_usage  minutes_usage  \\\n",
       "0     1000   52  Краснодар  ultra      5         2253.49         150.06   \n",
       "1     1000   52  Краснодар  ultra      6        23233.77         158.90   \n",
       "2     1000   52  Краснодар  ultra      7        14003.64         318.80   \n",
       "3     1000   52  Краснодар  ultra      8        14055.93         389.87   \n",
       "4     1000   52  Краснодар  ultra      9        14568.91         440.14   \n",
       "\n",
       "   calls_count  message_usage  total_revenue  \n",
       "0         22.0           22.0         1950.0  \n",
       "1         43.0           60.0         1950.0  \n",
       "2         47.0           75.0         1950.0  \n",
       "3         52.0           81.0         1950.0  \n",
       "4         58.0           57.0         1950.0  "
      ]
     },
     "execution_count": 18,
     "metadata": {},
     "output_type": "execute_result"
    }
   ],
   "source": [
    "data = data[[\"user_id\", \"age\", \"city\", \"tariff\", \"month\", \"internet_usage\",\n",
    "       \"minutes_usage\", \"calls_count\", \"message_usage\",\"total_revenue\"]]\n",
    "data.head()"
   ]
  },
  {
   "cell_type": "markdown",
   "id": "72bc66bb-c43d-4545-a1af-aaefd1c443a1",
   "metadata": {},
   "source": [
    "Перейдем к непосредственно анализу. "
   ]
  },
  {
   "cell_type": "markdown",
   "id": "4a4bc3d6-a248-4ecd-9e11-febc01007b20",
   "metadata": {},
   "source": [
    "Сколько всего пользователей по каждому тарифу?"
   ]
  },
  {
   "cell_type": "code",
   "execution_count": 19,
   "id": "d40e9a39-eeae-4262-b90e-484f7c936077",
   "metadata": {},
   "outputs": [
    {
     "name": "stdout",
     "output_type": "stream",
     "text": [
      "Доля пользователей с тарифом Smart составляет:  69.35\n",
      "Доля пользователей с тарифом Ultra составляет:  30.65\n"
     ]
    }
   ],
   "source": [
    "smart = data[\"tariff\"].value_counts()[0]/data[\"tariff\"].value_counts().sum() * 100\n",
    "ultra = 100 - smart\n",
    "print(f\"Доля пользователей с тарифом Smart составляет: {smart: .2f}\")\n",
    "print(f\"Доля пользователей с тарифом Ultra составляет: {ultra: .2f}\")"
   ]
  },
  {
   "cell_type": "markdown",
   "id": "1f04f54f-83c5-4e41-be93-d541a48488d5",
   "metadata": {},
   "source": [
    "Около 70% пользователей из выборки пользуются более бюджетным тарифом."
   ]
  },
  {
   "cell_type": "markdown",
   "id": "f704a8b2-96d4-4d4d-8a58-4d8660b644b6",
   "metadata": {},
   "source": [
    "Рассчитаем среднюю, дисперсию и стандартное отклонение по каждой составляющей обеих тарифов. "
   ]
  },
  {
   "cell_type": "code",
   "execution_count": 20,
   "id": "3d708eb4-a556-4145-830b-a4873f9fe52e",
   "metadata": {},
   "outputs": [
    {
     "data": {
      "text/html": [
       "<div>\n",
       "<style scoped>\n",
       "    .dataframe tbody tr th:only-of-type {\n",
       "        vertical-align: middle;\n",
       "    }\n",
       "\n",
       "    .dataframe tbody tr th {\n",
       "        vertical-align: top;\n",
       "    }\n",
       "\n",
       "    .dataframe thead tr th {\n",
       "        text-align: left;\n",
       "    }\n",
       "\n",
       "    .dataframe thead tr:last-of-type th {\n",
       "        text-align: right;\n",
       "    }\n",
       "</style>\n",
       "<table border=\"1\" class=\"dataframe\">\n",
       "  <thead>\n",
       "    <tr>\n",
       "      <th></th>\n",
       "      <th colspan=\"3\" halign=\"left\">minutes_usage</th>\n",
       "      <th colspan=\"3\" halign=\"left\">message_usage</th>\n",
       "      <th colspan=\"3\" halign=\"left\">internet_usage</th>\n",
       "    </tr>\n",
       "    <tr>\n",
       "      <th></th>\n",
       "      <th>mean</th>\n",
       "      <th>var</th>\n",
       "      <th>std</th>\n",
       "      <th>mean</th>\n",
       "      <th>var</th>\n",
       "      <th>std</th>\n",
       "      <th>mean</th>\n",
       "      <th>var</th>\n",
       "      <th>std</th>\n",
       "    </tr>\n",
       "    <tr>\n",
       "      <th>tariff</th>\n",
       "      <th></th>\n",
       "      <th></th>\n",
       "      <th></th>\n",
       "      <th></th>\n",
       "      <th></th>\n",
       "      <th></th>\n",
       "      <th></th>\n",
       "      <th></th>\n",
       "      <th></th>\n",
       "    </tr>\n",
       "  </thead>\n",
       "  <tbody>\n",
       "    <tr>\n",
       "      <th>smart</th>\n",
       "      <td>395.491606</td>\n",
       "      <td>32052.625911</td>\n",
       "      <td>179.032472</td>\n",
       "      <td>38.716441</td>\n",
       "      <td>717.594201</td>\n",
       "      <td>26.787949</td>\n",
       "      <td>16215.661849</td>\n",
       "      <td>3.435995e+07</td>\n",
       "      <td>5861.736234</td>\n",
       "    </tr>\n",
       "    <tr>\n",
       "      <th>ultra</th>\n",
       "      <td>514.839327</td>\n",
       "      <td>84002.601260</td>\n",
       "      <td>289.832022</td>\n",
       "      <td>61.161006</td>\n",
       "      <td>2109.659183</td>\n",
       "      <td>45.931026</td>\n",
       "      <td>19668.485262</td>\n",
       "      <td>9.886425e+07</td>\n",
       "      <td>9943.050284</td>\n",
       "    </tr>\n",
       "  </tbody>\n",
       "</table>\n",
       "</div>"
      ],
      "text/plain": [
       "       minutes_usage                           message_usage               \\\n",
       "                mean           var         std          mean          var   \n",
       "tariff                                                                      \n",
       "smart     395.491606  32052.625911  179.032472     38.716441   717.594201   \n",
       "ultra     514.839327  84002.601260  289.832022     61.161006  2109.659183   \n",
       "\n",
       "                  internet_usage                             \n",
       "              std           mean           var          std  \n",
       "tariff                                                       \n",
       "smart   26.787949   16215.661849  3.435995e+07  5861.736234  \n",
       "ultra   45.931026   19668.485262  9.886425e+07  9943.050284  "
      ]
     },
     "execution_count": 20,
     "metadata": {},
     "output_type": "execute_result"
    }
   ],
   "source": [
    "dist_stat = data.groupby([\"tariff\"])[[\"minutes_usage\", \n",
    "                                      \"message_usage\", \n",
    "                                      \"internet_usage\"]].agg({\"minutes_usage\": [np.mean, np.var, np.std], \n",
    "                                                              \"message_usage\": [np.mean, np.var, np.std], \n",
    "                                                              \"internet_usage\": [np.mean, np.var, np.std]})\n",
    "dist_stat"
   ]
  },
  {
   "cell_type": "markdown",
   "id": "c54423b7-17cf-42a6-80fb-748e7102d087",
   "metadata": {},
   "source": [
    "В среднем по всем компонентам тарифов больше потребляют пользователи по тарифу Ultra, но и рассеясние соотвественно больше, среди основных причин которого можно выделить:\n",
    "- относительно меньшая выборка наблюдений по тарифу Ultra по сравнению с выборкой Smart. Напомним, что около 70% пользователей общей выборки приходятся на Smart;\n",
    "- предоположительно разное поведение пользователей тарифов Ultra и Smart. Пльзователи тарифа Smart стараются уложиться в выделенный пакет и в большинстве случаев им это удается, однако, некоторые пользователи все же не укладываются в пакет и потребляют больше, чем положено по тарифу. В тоже время у пользователей тарифа Ultra на старте доступны большие объемы, даже при самом активном пользовании услугами, сложно представить перерасход по данному тарифу, а значит большинство пользователей вовсе не ограничивают себя, в отличие от пользователей тарифа Smart, где имеющегося пакета с натяжкой хватает под конец месяца."
   ]
  },
  {
   "cell_type": "markdown",
   "id": "9ef1e813-f6a1-4311-bd14-3780f65d70a3",
   "metadata": {},
   "source": [
    "Визуализируем распределения потребления пользователями пакетов Smart и Ultra."
   ]
  },
  {
   "cell_type": "code",
   "execution_count": 21,
   "id": "a008bf26-22ab-46b2-8864-cb50a9f785f3",
   "metadata": {},
   "outputs": [
    {
     "data": {
      "image/png": "[encoded data removed]",
      "text/plain": [
       "<Figure size 3000x2000 with 6 Axes>"
      ]
     },
     "metadata": {},
     "output_type": "display_data"
    }
   ],
   "source": [
    "plt.figure(figsize=(30, 20))\n",
    "\n",
    "columns = [\"minutes_usage\", \"message_usage\", \"internet_usage\"]\n",
    "\n",
    "k = 1\n",
    "\n",
    "for column in columns:\n",
    "    \n",
    "    if column == \"minutes_usage\":\n",
    "        bins = 40\n",
    "    if column == \"message_usage\":\n",
    "        bins = 20\n",
    "    else:\n",
    "        bins = 60\n",
    "    \n",
    "    plt.subplot((len(columns)), 2, k)\n",
    "    plt.hist(data[data[\"tariff\"] == \"smart\"][column], ec=\"black\", bins=bins)\n",
    "    plt.title(column)\n",
    "    \n",
    "    plt.subplot((len(columns)), 2, k+1)\n",
    "    plt.hist(data[data[\"tariff\"] == \"ultra\"][column], color=\"orange\", ec=\"black\", bins=bins)\n",
    "    plt.title(column)\n",
    "    \n",
    "    k+=2"
   ]
  },
  {
   "cell_type": "markdown",
   "id": "f3a86b7b-d646-4ec6-90ad-af12f88dfacc",
   "metadata": {},
   "source": [
    "### Выводы"
   ]
  },
  {
   "cell_type": "markdown",
   "id": "e88440b6-6767-4c04-9361-252b7cc9e1c8",
   "metadata": {},
   "source": [
    "Как и было упомянуто выше по тарифу Ultra разброс больше, видны отдельные пики, присутствует шум, в то время как данные по тарифу Smart c меньшим шумом и единичными пиками. Несмотря на это можно сказать, что потребление обеих тарифов стремится к нормальному распределению. \n",
    "* Визуально пик на тарифе смарт стремится к 400 минутам, среднестатистический пользователь тарифа Smart тратит именно столько минут, большинство же пользователей тратят от 200 до 400 минут в месяц. Пик по тарифу Ultra приходится на 500 минутах, большинство пользователей тратят 200 до 800 минут в месяц на разговоры по сотовой связи. Стоит также заметить, что это все звонки совершенные по сотовой связи. В текущих реалиях не малая часть звонков приходятся на звонки в соц сетях и месенджерах по интернет связи, кроме того, большинство тарифов поддерживают использование мессенджерами даже при отрицательном балансе. Что это может значить? Это может означать то, что часть звонков покрываются месенджерами и тем сам не тратятся минуты основного пакета, что пользователям на руку. При лимите в 500 минут значительное число пользователей тратят больше, следовательно платят за перерасход, на тарифе ультра имеются единичные случаи перерасхода по тарифу. Нули в столбцах это пропущенные звонки;\n",
    "* Большинство пользователей тарифа Smart отправляют в месяц от 0 до 80 сообщений, на тарифе Ultra от 0 до 100, разрброс сильнее на последнем, пик у обоих тарифов около 20 сообщений в месяц. Многие пользователи вообще не отправляли сообщения. В современном мире редко отправляются сообщения по номеру телефона, абсолютное большинство пользователей общаются в месенджерах, но тем менее виден очевидный перерасход при лимите в 50 сообщений в месяц по тарифу Smart. По тарифу Ultra перерасходов по сообщениям нет, ввиду больншого лимита в 1000 сообщений;\n",
    "* На тарифе Smart в среднем потребляются 16-17 гб, большинство потребляют 10 до 23 гб при лимите порядка 15 гб. На тарифе Ultra наблюдается сильный разраброс, но в целом большинство тратят от 8 до 30 гб, пик на уровне 22 гб. Интернет это единственное, где у пользователей тарифа Ultra бывают перерасходы."
   ]
  },
  {
   "cell_type": "markdown",
   "id": "70f7fced-5091-4420-babf-42cbc4fb26cd",
   "metadata": {},
   "source": [
    "[В начало](#intro)"
   ]
  },
  {
   "cell_type": "markdown",
   "id": "5aee39fb-2cc2-4346-85bc-734f233d8092",
   "metadata": {},
   "source": [
    "## Проверка гипотез"
   ]
  },
  {
   "cell_type": "markdown",
   "id": "357d1a80-714c-404b-8f7f-92e796f554e6",
   "metadata": {},
   "source": [
    "Переходим к основным интересующим вопросам в исследовании. "
   ]
  },
  {
   "cell_type": "markdown",
   "id": "f481214d-990e-47ec-abbe-148542c6b90d",
   "metadata": {},
   "source": [
    "**Первая гипотеза**, которую нужно проверить - средняя выручка пользователей тарифов «Ультра» и «Смарт» различается.\n",
    "\n",
    "Сформулируем нулевую и альтернативную гипотезы:\n",
    "- H0: Средняя выручка пользователей тарифов «Ультра» и «Смарт» равны\n",
    "- Н1: Средняя выручка пользователей тарифов «Ультра» и «Смарт» различаются"
   ]
  },
  {
   "cell_type": "code",
   "execution_count": 22,
   "id": "804fe773-6d03-4007-abd5-82a24d58d6ed",
   "metadata": {},
   "outputs": [
    {
     "name": "stdout",
     "output_type": "stream",
     "text": [
      "p-значение: 6.179723168444486e-274\n",
      "Отвергаем нулевую гипотезу\n"
     ]
    }
   ],
   "source": [
    "# При уровне значимости в 5%\n",
    "smart = data[data[\"tariff\"] == \"smart\"][\"total_revenue\"]\n",
    "ultra = data[data[\"tariff\"] == \"ultra\"][\"total_revenue\"]\n",
    "\n",
    "alpha = .05\n",
    "\n",
    "results = st.ttest_ind(smart, ultra, equal_var=False)\n",
    "\n",
    "print('p-значение:', results.pvalue)\n",
    "\n",
    "if results.pvalue < alpha:\n",
    "    print(\"Отвергаем нулевую гипотезу\")\n",
    "else:\n",
    "    print(\"Не получилось отвергнуть нулевую гипотезу\")"
   ]
  },
  {
   "cell_type": "markdown",
   "id": "f4b01eca-74d0-4fb3-8274-0c3351a98042",
   "metadata": {},
   "source": [
    "pvalue слишком мал, значительно ниже определенного нами уровня значимости в 5%. Проверим результат гипотезы при снижении уровня значимости до 1%."
   ]
  },
  {
   "cell_type": "code",
   "execution_count": 23,
   "id": "e5372fd4-e00d-404a-b474-69a921634050",
   "metadata": {},
   "outputs": [
    {
     "name": "stdout",
     "output_type": "stream",
     "text": [
      "p-значение: 6.179723168444486e-274\n",
      "Отвергаем нулевую гипотезу\n"
     ]
    }
   ],
   "source": [
    "# При уровне значимости в 1%\n",
    "smart = data[data[\"tariff\"] == \"smart\"][\"total_revenue\"]\n",
    "ultra = data[data[\"tariff\"] == \"ultra\"][\"total_revenue\"]\n",
    "\n",
    "alpha = .01\n",
    "\n",
    "results = st.ttest_ind(smart, ultra, equal_var=False)\n",
    "\n",
    "print('p-значение:', results.pvalue)\n",
    "\n",
    "if results.pvalue < alpha:\n",
    "    print(\"Отвергаем нулевую гипотезу\")\n",
    "else:\n",
    "    print(\"Не получилось отвергнуть нулевую гипотезу\")"
   ]
  },
  {
   "cell_type": "markdown",
   "id": "5e0881ae-9cdd-4064-b365-7c2aee9647b3",
   "metadata": {},
   "source": [
    "Разница между средними выручки по тарифам сильно большая, чтобы считать это случайностью, а значит они не равны."
   ]
  },
  {
   "cell_type": "code",
   "execution_count": 24,
   "id": "0cfc0edb-ebed-42be-b9b0-840b02748644",
   "metadata": {},
   "outputs": [
    {
     "data": {
      "text/plain": [
       "1257.5886047554957"
      ]
     },
     "execution_count": 24,
     "metadata": {},
     "output_type": "execute_result"
    }
   ],
   "source": [
    "smart.mean()"
   ]
  },
  {
   "cell_type": "code",
   "execution_count": 25,
   "id": "ce51bf55-0ee1-45a8-b6c3-c480dc7afa31",
   "metadata": {},
   "outputs": [
    {
     "data": {
      "text/plain": [
       "2070.1522842639592"
      ]
     },
     "execution_count": 25,
     "metadata": {},
     "output_type": "execute_result"
    }
   ],
   "source": [
    "ultra.mean()"
   ]
  },
  {
   "cell_type": "markdown",
   "id": "bf82ba16-cba2-4ea2-85f7-55e9f57c052d",
   "metadata": {},
   "source": [
    "Видно, что средняя выручка по тарифам сильно разнятся, по тарифу Smart в среднем переплата сильно большая, по тарифу  Ultra средняя выручка немного завышена за счет отдельных активных пользователей."
   ]
  },
  {
   "cell_type": "markdown",
   "id": "a05c232e-f195-46ef-be96-2df4eb15b072",
   "metadata": {},
   "source": [
    "**Вторая гипотеза**, которую нужно проверить - средняя выручка пользователей из Москвы не отличается от выручки пользователей из других регионов.\n",
    "\n",
    "Сформулируем нулевую и альтернативную гипотезы:\n",
    "- Н0: Средняя выручка пользователей из Москвы не отличается от выручки пользователей из других регионов\n",
    "- Н1: Средняя выручка пользователей из Москвы отличается от выручки пользователей из других регионов"
   ]
  },
  {
   "cell_type": "code",
   "execution_count": 26,
   "id": "6fda67a8-2d18-4ea8-93d4-0ac4e9e55f6d",
   "metadata": {},
   "outputs": [
    {
     "name": "stdout",
     "output_type": "stream",
     "text": [
      "p-значение: 0.46532858228722906\n",
      "Не получилось отвергнуть нулевую гипотезу\n"
     ]
    }
   ],
   "source": [
    "# При уровне значимости в 5%\n",
    "moscow = data[data[\"city\"] == \"Москва\"][\"total_revenue\"]\n",
    "other_cities = data[data[\"city\"] != \"Москва\"][\"total_revenue\"]\n",
    "alpha = .05\n",
    "\n",
    "results = st.ttest_ind(moscow, other_cities, equal_var=False)\n",
    "\n",
    "print('p-значение:', results.pvalue)\n",
    "\n",
    "if results.pvalue < alpha:\n",
    "    print(\"Отвергаем нулевую гипотезу\")\n",
    "else:\n",
    "    print(\"Не получилось отвергнуть нулевую гипотезу\")"
   ]
  },
  {
   "cell_type": "markdown",
   "id": "81c84d37-18f8-4fe1-88bd-e9f65d1523b2",
   "metadata": {},
   "source": [
    "Разница между средними выручки по городам незначительная, то есть статистически незначима, а значит они равны."
   ]
  },
  {
   "cell_type": "markdown",
   "id": "cec775d0-21f2-41bd-a7a3-66b9c1477742",
   "metadata": {},
   "source": [
    "[В начало](#intro)"
   ]
  },
  {
   "cell_type": "markdown",
   "id": "ef8005f6-6d9c-4bf5-97e9-d69fa0d07f66",
   "metadata": {},
   "source": [
    "## Общие выводы"
   ]
  },
  {
   "cell_type": "markdown",
   "id": "22d6eece-930b-4049-bd33-342a601d133d",
   "metadata": {},
   "source": [
    "По итогам статистического анализа было установлено:\n",
    "- телеком-компания \"Мегалайн\" в среднем получает больше доходов с одного пользователя на тарифе Ultra (2070 руб.), чем на тарифе Smart (1258 руб.);\n",
    "- пользователи Smart в среднем доплачивают 700 руб. (1278-550 | 232%) в виду нехватки пакета минут, сообщений и интернета, в то время как в среднем пакет минут, сообщений и интернета пользователям тарифа Ultra хватает (не используется в полном объеме);\n",
    "- разница доходов компании по тарифам в разных городах и в Москве статически незначима.\n",
    "Следствие:\n",
    "- больше доходов компания получает именно на тарифе Ultra, поэтому при составлении рекламной компании стоит учитывать этот фактор;\n",
    "- компания получает одинковые доходы в среднем на каждом из тарифов по разным городам, то есть рекламную компанию можно запускать в любом из регионов страны."
   ]
  },
  {
   "cell_type": "markdown",
   "id": "b8ed8a0e-d728-449e-a34d-9e2141ae21a2",
   "metadata": {},
   "source": [
    "[В начало](#intro)"
   ]
  }
 ],
 "metadata": {
  "kernelspec": {
   "display_name": "Python 3 (ipykernel)",
   "language": "python",
   "name": "python3"
  },
  "language_info": {
   "codemirror_mode": {
    "name": "ipython",
    "version": 3
   },
   "file_extension": ".py",
   "mimetype": "text/x-python",
   "name": "python",
   "nbconvert_exporter": "python",
   "pygments_lexer": "ipython3",
   "version": "3.11.5"
  },
  "toc": {
   "base_numbering": 1,
   "nav_menu": {},
   "number_sections": true,
   "sideBar": true,
   "skip_h1_title": true,
   "title_cell": "Содержание",
   "title_sidebar": "Contents",
   "toc_cell": true,
   "toc_position": {},
   "toc_section_display": true,
   "toc_window_display": true
  }
 },
 "nbformat": 4,
 "nbformat_minor": 5
}
